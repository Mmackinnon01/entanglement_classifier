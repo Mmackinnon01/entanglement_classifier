{
 "cells": [
  {
   "cell_type": "markdown",
   "metadata": {},
   "source": [
    "# Entanglement Classifier Training Trial"
   ]
  },
  {
   "cell_type": "markdown",
   "metadata": {},
   "source": [
    "## Importing Dependencies"
   ]
  },
  {
   "cell_type": "code",
   "execution_count": 70,
   "metadata": {},
   "outputs": [],
   "source": [
    "import numpy as np\n",
    "from sklearn.model_selection import train_test_split\n",
    "from sklearn.linear_model import SGDClassifier\n",
    "from sympy.physics.quantum import TensorProduct\n",
    "\n",
    "from components.system import System\n",
    "from components.connection import ConnectionFactory, Connection\n",
    "from components.model import Model\n",
    "from components.connection_functions import DrivenCascadeFunction, EnergyExchangeFunction\n",
    "from components.state_generator import generateMixedBatch, generatePureBatch, generateMixedBatchUsingPure"
   ]
  },
  {
   "cell_type": "markdown",
   "metadata": {},
   "source": [
    "## Generating Training Data"
   ]
  },
  {
   "cell_type": "code",
   "execution_count": 71,
   "metadata": {},
   "outputs": [],
   "source": [
    "samples = 2000\n",
    "test_size = 0.5"
   ]
  },
  {
   "cell_type": "code",
   "execution_count": 72,
   "metadata": {},
   "outputs": [],
   "source": [
    "x_pure = generatePureBatch(int(samples/2))\n",
    "y_pure = np.ones(int(samples/2))\n",
    "x_mixed = generateMixedBatchUsingPure(int(samples/2))\n",
    "y_mixed = np.zeros(int(samples/2))"
   ]
  },
  {
   "cell_type": "code",
   "execution_count": 73,
   "metadata": {},
   "outputs": [],
   "source": [
    "x = np.concatenate([x_pure, x_mixed])\n",
    "y = np.concatenate([y_pure, y_mixed])"
   ]
  },
  {
   "cell_type": "code",
   "execution_count": 74,
   "metadata": {},
   "outputs": [],
   "source": [
    "x_train, x_test, y_train, y_test = train_test_split(x, y, test_size=test_size, random_state=42, shuffle=True)"
   ]
  },
  {
   "cell_type": "markdown",
   "metadata": {},
   "source": [
    "## Generate Reservoir Measurements"
   ]
  },
  {
   "cell_type": "markdown",
   "metadata": {},
   "source": [
    "### Setting up the system"
   ]
  },
  {
   "cell_type": "code",
   "execution_count": 75,
   "metadata": {},
   "outputs": [],
   "source": [
    "reservoir_nodes=4\n",
    "system_nodes=1"
   ]
  },
  {
   "cell_type": "code",
   "execution_count": 76,
   "metadata": {},
   "outputs": [],
   "source": [
    "\"\"\"\n",
    "Defining System setup\n",
    "\"\"\"\n",
    "\n",
    "system_state = np.array([[1, 0], [0, 0]])\n",
    "system_node_list = [0]\n",
    "\n",
    "if len(system_node_list) != system_nodes:\n",
    "    raise Exception\n",
    "\n",
    "system_connections = {}\n",
    "\n",
    "system = System(\n",
    "    init_quantum_state=system_state, nodes=system_node_list, connections=system_connections\n",
    ")"
   ]
  },
  {
   "cell_type": "markdown",
   "metadata": {},
   "source": [
    "### Setting up the interface"
   ]
  },
  {
   "cell_type": "code",
   "execution_count": 77,
   "metadata": {},
   "outputs": [],
   "source": [
    "\"\"\"\n",
    "Defining Interface setup\n",
    "\"\"\"\n",
    "\n",
    "interfaceFactory = ConnectionFactory(DrivenCascadeFunction, gamma_1=[8,12], gamma_2=[8,12])"
   ]
  },
  {
   "cell_type": "markdown",
   "metadata": {},
   "source": [
    "### Setting up the reservoir"
   ]
  },
  {
   "cell_type": "code",
   "execution_count": 78,
   "metadata": {},
   "outputs": [],
   "source": [
    "\"\"\"\n",
    "Defining Reservoir setup\n",
    "\"\"\"\n",
    "\n",
    "reservoirFactory = ConnectionFactory(EnergyExchangeFunction, is_hamiltonian=True, J=[0.5,1.5])"
   ]
  },
  {
   "cell_type": "markdown",
   "metadata": {},
   "source": [
    "### Setting up the model"
   ]
  },
  {
   "cell_type": "code",
   "execution_count": 79,
   "metadata": {},
   "outputs": [],
   "source": [
    "model = Model()\n",
    "model.setSystem(system)\n",
    "model.setReservoirConnectionFac(reservoirFactory)\n",
    "model.setInterfaceConectionFac(interfaceFactory)\n",
    "model.generateReservoir(reservoir_nodes, init_quantum_state=0)\n",
    "model.generateInterface(connection_rate=.5)\n",
    "model.setRunDuration(0.1)\n",
    "model.setRunResolution(0.01)"
   ]
  },
  {
   "cell_type": "markdown",
   "metadata": {},
   "source": [
    "### Running the model"
   ]
  },
  {
   "cell_type": "code",
   "execution_count": 80,
   "metadata": {},
   "outputs": [],
   "source": [
    "d_train = []\n",
    "d_test = []\n",
    "measurement_iteration = -1\n",
    "\n",
    "for state in x_train:\n",
    "    model.system.init_quantum_state = state\n",
    "    model.run()\n",
    "    d_train.append(np.real(list(model.modelLog.excitation_time_log.values())[measurement_iteration]))\n",
    "\n",
    "for state in x_test:\n",
    "    model.system.init_quantum_state = state\n",
    "    model.run()\n",
    "    d_test.append(np.real(list(model.modelLog.excitation_time_log.values())[measurement_iteration]))"
   ]
  },
  {
   "cell_type": "markdown",
   "metadata": {},
   "source": [
    "## Classical Processing"
   ]
  },
  {
   "cell_type": "code",
   "execution_count": 81,
   "metadata": {},
   "outputs": [
    {
     "data": {
      "text/plain": [
       "SGDClassifier()"
      ]
     },
     "execution_count": 81,
     "metadata": {},
     "output_type": "execute_result"
    }
   ],
   "source": [
    "sgd = SGDClassifier()\n",
    "sgd.fit(d_train, y_train)"
   ]
  },
  {
   "cell_type": "code",
   "execution_count": 82,
   "metadata": {},
   "outputs": [
    {
     "data": {
      "text/plain": [
       "0.728"
      ]
     },
     "execution_count": 82,
     "metadata": {},
     "output_type": "execute_result"
    }
   ],
   "source": [
    "sgd.score(d_test, y_test)"
   ]
  },
  {
   "cell_type": "code",
   "execution_count": 83,
   "metadata": {},
   "outputs": [],
   "source": [
    "from sklearn.metrics import confusion_matrix"
   ]
  },
  {
   "cell_type": "code",
   "execution_count": 84,
   "metadata": {},
   "outputs": [],
   "source": [
    "wrong = []\n",
    "\n",
    "for i in range(len(y_test)):\n",
    "    if y_test[i] != y_pred[i]:\n",
    "        wrong.append([x_test[i], np.trace(np.matmul(x_test[i], x_test[i])), y_test[i]])"
   ]
  },
  {
   "cell_type": "code",
   "execution_count": 85,
   "metadata": {},
   "outputs": [
    {
     "data": {
      "text/plain": [
       "[array([[0.39946905, 0.48978927],\n",
       "        [0.48978927, 0.60053095]]),\n",
       " 1.0000000000000004,\n",
       " 1.0]"
      ]
     },
     "execution_count": 85,
     "metadata": {},
     "output_type": "execute_result"
    }
   ],
   "source": [
    "wrong[10]"
   ]
  },
  {
   "cell_type": "code",
   "execution_count": null,
   "metadata": {},
   "outputs": [],
   "source": []
  }
 ],
 "metadata": {
  "interpreter": {
   "hash": "b230dc09b00ba306e51760166eebfa5f521b03ac9d91d8a8d9d3cb5763c68838"
  },
  "kernelspec": {
   "display_name": "Python 3.9.7 64-bit ('entanglement_classifier': conda)",
   "language": "python",
   "name": "python3"
  },
  "language_info": {
   "codemirror_mode": {
    "name": "ipython",
    "version": 3
   },
   "file_extension": ".py",
   "mimetype": "text/x-python",
   "name": "python",
   "nbconvert_exporter": "python",
   "pygments_lexer": "ipython3",
   "version": "3.9.7"
  },
  "orig_nbformat": 4
 },
 "nbformat": 4,
 "nbformat_minor": 2
}
