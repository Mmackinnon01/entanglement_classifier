{
 "cells": [
  {
   "cell_type": "code",
   "execution_count": 122,
   "metadata": {},
   "outputs": [],
   "source": [
    "from sklearn.metrics import confusion_matrix\n",
    "from sklearn.neural_network import MLPClassifier, MLPRegressor\n",
    "from sklearn.ensemble import RandomForestClassifier\n",
    "from sklearn.neighbors import KNeighborsClassifier\n",
    "from sklearn.tree import DecisionTreeClassifier\n",
    "from sklearn.svm import SVC\n",
    "import numpy as np"
   ]
  },
  {
   "cell_type": "code",
   "execution_count": 123,
   "metadata": {},
   "outputs": [],
   "source": [
    "x_test_imag = np.loadtxt(r\"..\\x_test_imag_3.csv\", delimiter=\",\")\n",
    "x_test_real = np.loadtxt(r\"..\\x_test_real_3.csv\", delimiter=\",\")\n",
    "x_train_imag = np.loadtxt(r\"..\\x_train_imag_3.csv\", delimiter=\",\")\n",
    "x_train_real = np.loadtxt(r\"..\\x_train_real_3.csv\", delimiter=\",\")\n",
    "x_train = x_train_real + 1j* x_train_imag\n",
    "x_test = x_test_real + 1j* x_test_imag\n",
    "x_test = x_test.reshape(50000,4,4)\n",
    "x_train = x_train.reshape(50000,4,4)\n",
    "d_test = np.loadtxt(r\"..\\d_test_3.csv\", delimiter=\",\")\n",
    "d_train = np.loadtxt(r\"..\\d_train_3.csv\", delimiter=\",\")\n",
    "y_test = np.loadtxt(r\"..\\y_test_3.csv\", delimiter=\",\")\n",
    "y_train = np.loadtxt(r\"..\\y_train_3.csv\", delimiter=\",\")"
   ]
  },
  {
   "cell_type": "code",
   "execution_count": 124,
   "metadata": {},
   "outputs": [],
   "source": [
    "knn = KNeighborsClassifier().fit(d_train, y_train)"
   ]
  },
  {
   "cell_type": "code",
   "execution_count": 125,
   "metadata": {},
   "outputs": [
    {
     "data": {
      "text/plain": [
       "0.9745"
      ]
     },
     "execution_count": 125,
     "metadata": {},
     "output_type": "execute_result"
    }
   ],
   "source": [
    "knn.score(d_test, y_test)"
   ]
  },
  {
   "cell_type": "code",
   "execution_count": 126,
   "metadata": {},
   "outputs": [],
   "source": [
    "tree = DecisionTreeClassifier().fit(d_train, y_train)"
   ]
  },
  {
   "cell_type": "code",
   "execution_count": 127,
   "metadata": {},
   "outputs": [
    {
     "data": {
      "text/plain": [
       "0.95456"
      ]
     },
     "execution_count": 127,
     "metadata": {},
     "output_type": "execute_result"
    }
   ],
   "source": [
    "tree.score(d_test, y_test)"
   ]
  },
  {
   "cell_type": "code",
   "execution_count": 128,
   "metadata": {},
   "outputs": [],
   "source": [
    "forest = RandomForestClassifier().fit(d_train, y_train)"
   ]
  },
  {
   "cell_type": "code",
   "execution_count": 129,
   "metadata": {},
   "outputs": [
    {
     "data": {
      "text/plain": [
       "0.97584"
      ]
     },
     "execution_count": 129,
     "metadata": {},
     "output_type": "execute_result"
    }
   ],
   "source": [
    "forest.score(d_test, y_test)"
   ]
  },
  {
   "cell_type": "code",
   "execution_count": 130,
   "metadata": {},
   "outputs": [],
   "source": [
    "mlp = MLPClassifier(max_iter=20000).fit(d_train, y_train)"
   ]
  },
  {
   "cell_type": "code",
   "execution_count": 131,
   "metadata": {},
   "outputs": [
    {
     "data": {
      "text/plain": [
       "0.96876"
      ]
     },
     "execution_count": 131,
     "metadata": {},
     "output_type": "execute_result"
    }
   ],
   "source": [
    "mlp.score(d_test, y_test)"
   ]
  },
  {
   "cell_type": "code",
   "execution_count": 132,
   "metadata": {},
   "outputs": [],
   "source": [
    "from components.partial_transpose import partialTranspose"
   ]
  },
  {
   "cell_type": "code",
   "execution_count": 134,
   "metadata": {},
   "outputs": [],
   "source": [
    "mlp_reg = MLPRegressor(max_iter=20000).fit(d_train, [min([0, min(np.real(np.linalg.eigvals(partialTranspose(mat))))]) for mat in x_train])"
   ]
  },
  {
   "cell_type": "code",
   "execution_count": 136,
   "metadata": {},
   "outputs": [
    {
     "data": {
      "text/plain": [
       "0.12341474535629549"
      ]
     },
     "execution_count": 136,
     "metadata": {},
     "output_type": "execute_result"
    }
   ],
   "source": [
    "mlp_reg.score(d_test, [min([0, min(np.real(np.linalg.eigvals(partialTranspose(mat))))]) for mat in x_test])"
   ]
  }
 ],
 "metadata": {
  "interpreter": {
   "hash": "b230dc09b00ba306e51760166eebfa5f521b03ac9d91d8a8d9d3cb5763c68838"
  },
  "kernelspec": {
   "display_name": "Python 3.9.7 ('entanglement_classifier')",
   "language": "python",
   "name": "python3"
  },
  "language_info": {
   "codemirror_mode": {
    "name": "ipython",
    "version": 3
   },
   "file_extension": ".py",
   "mimetype": "text/x-python",
   "name": "python",
   "nbconvert_exporter": "python",
   "pygments_lexer": "ipython3",
   "version": "3.9.7"
  },
  "orig_nbformat": 4
 },
 "nbformat": 4,
 "nbformat_minor": 2
}
